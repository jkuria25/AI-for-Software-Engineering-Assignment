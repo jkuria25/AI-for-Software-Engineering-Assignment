{
  "nbformat": 4,
  "nbformat_minor": 0,
  "metadata": {
    "colab": {
      "provenance": [],
      "authorship_tag": "ABX9TyMbLsqOBXp8ST9C/QqUqV6l",
      "include_colab_link": true
    },
    "kernelspec": {
      "name": "python3",
      "display_name": "Python 3"
    },
    "language_info": {
      "name": "python"
    }
  },
  "cells": [
    {
      "cell_type": "markdown",
      "metadata": {
        "id": "view-in-github",
        "colab_type": "text"
      },
      "source": [
        "<a href=\"https://colab.research.google.com/github/jkuria25/AI-Specialization/blob/master/Untitled.ipynb\" target=\"_parent\"><img src=\"https://colab.research.google.com/assets/colab-badge.svg\" alt=\"Open In Colab\"/></a>"
      ]
    },
    {
      "cell_type": "code",
      "execution_count": 1,
      "metadata": {
        "colab": {
          "base_uri": "https://localhost:8080/",
          "height": 106
        },
        "id": "ndRO1LvGGmJ4",
        "outputId": "e542a05a-039f-4847-d0fd-25cd485d3f46"
      },
      "outputs": [
        {
          "output_type": "error",
          "ename": "SyntaxError",
          "evalue": "invalid syntax (ipython-input-1-3798624162.py, line 1)",
          "traceback": [
            "\u001b[0;36m  File \u001b[0;32m\"/tmp/ipython-input-1-3798624162.py\"\u001b[0;36m, line \u001b[0;32m1\u001b[0m\n\u001b[0;31m    AI-suggested code by GitHub Copilot\u001b[0m\n\u001b[0m                 ^\u001b[0m\n\u001b[0;31mSyntaxError\u001b[0m\u001b[0;31m:\u001b[0m invalid syntax\n"
          ]
        }
      ],
      "source": [
        "AI-suggested code by GitHub Copilot\n",
        "\n",
        "def sort_dicts_by_key(lst, key):\n",
        "    return sorted(lst, key=lambda d: d[key])\n",
        "\n",
        "# Manual implementation\n",
        "def sort_dicts_by_key_manual(lst, key):\n",
        "    sorted_lst = []\n",
        "    for d in lst:\n",
        "        sorted_lst.append((d[key], d))\n",
        "    sorted_lst.sort()\n",
        "    return [d_dict for _, d_dict in sorted_lst]\n",
        "\n",
        "\n",
        "A\n"
      ]
    },
    {
      "cell_type": "markdown",
      "source": [
        "Analysis:\n",
        "Both the AI-suggested code and the manual implementation solve the problem of sorting a list of dictionaries by a specific key. However, there are significant differences in efficiency and readability.\n",
        "\n",
        "The AI-suggested code leverages Python's built-in `sorted` function with a key parameter, which is more Pythonic and efficient. This method sorts the list in a single line, utilizing Python's internal sorting algorithm, typically Timsort, which has a worst-case and average time complexity of O(n log n). This approach is faster and cleaner than the manual implementation.\n",
        "\n",
        "In contrast, the manual implementation manually constructs a list of tuples, where each tuple contains the value of the key and the corresponding dictionary. It then sorts this list and extracts the dictionaries back into a new list. This method is less efficient due to the extra steps of creating a new list of tuples and the subsequent extraction of dictionaries from the sorted list. Although this approach is explicit, it introduces unnecessary complexity and computation, which can degrade performance, especially with large lists.\n",
        "\n",
        "The AI-suggested implementation is more efficient because it minimizes unnecessary operations and leverages optimized built-in functions. This makes it faster and more memory-efficient. The manual implementation, although clear, lacks the performance benefits of the built-in `sorted` function. Therefore, the AI-suggested code is preferred for its efficiency and simplicity. It showcases the advantage of using built-in functions where possible to solve problems effectively."
      ],
      "metadata": {
        "id": "NFqhbptgHDRU"
      }
    }
  ]
}